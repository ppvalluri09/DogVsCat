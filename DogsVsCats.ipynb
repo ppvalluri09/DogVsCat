{
 "cells": [
  {
   "cell_type": "code",
   "execution_count": 20,
   "metadata": {
    "scrolled": true
   },
   "outputs": [
    {
     "name": "stdout",
     "output_type": "stream",
     "text": [
      "25000\n"
     ]
    }
   ],
   "source": [
    "# import cv2\n",
    "# from matplotlib import pyplot as plt\n",
    "# import numpy as np\n",
    "# import tensorflow as tf\n",
    "# import os\n",
    "\n",
    "# PATH = 'train'\n",
    "# IMG_SIZE = 50\n",
    "\n",
    "# classes = {'cat': 0, 'dog': 1}\n",
    "\n",
    "# def prepareData():\n",
    "#     path = PATH\n",
    "#     training_data = []\n",
    "#     for img in os.listdir(path):\n",
    "#         try:\n",
    "#             img_array = cv2.imread(os.path.join(path, img), cv2.IMREAD_GRAYSCALE)\n",
    "#             img_array = cv2.resize(img_array, (IMG_SIZE, IMG_SIZE))\n",
    "#             class_num = classes[img.split('.')[0]]\n",
    "#             training_data.append([img_array, class_num])\n",
    "#         except Exception as e:\n",
    "#             print(str(e))\n",
    "#     return training_data\n",
    "\n",
    "# training_data = prepareData()\n",
    "# print(len(training_data))"
   ]
  },
  {
   "cell_type": "code",
   "execution_count": 21,
   "metadata": {},
   "outputs": [],
   "source": [
    "'''import pickle\n",
    "file = open('train.pickle', 'wb')\n",
    "pickle.dump(training_data, file)\n",
    "file.close()'''"
   ]
  },
  {
   "cell_type": "code",
   "execution_count": 1,
   "metadata": {},
   "outputs": [],
   "source": [
    "import cv2\n",
    "from matplotlib import pyplot as plt\n",
    "import numpy as np\n",
    "import tensorflow as tf\n",
    "import os\n",
    "import pickle\n",
    "\n",
    "\n",
    "file = open('train.pickle', 'rb')\n",
    "training_data = pickle.load(file)\n",
    "file.close()"
   ]
  },
  {
   "cell_type": "code",
   "execution_count": 7,
   "metadata": {},
   "outputs": [],
   "source": [
    "X = []\n",
    "y = []\n",
    "\n",
    "IMG_SIZE = 50\n",
    "\n",
    "for (features, labels) in training_data:\n",
    "    X.append(features)\n",
    "    y.append(labels)\n",
    "\n",
    "X = np.array(X).reshape(-1, IMG_SIZE, IMG_SIZE, 1)"
   ]
  },
  {
   "cell_type": "code",
   "execution_count": 20,
   "metadata": {},
   "outputs": [
    {
     "name": "stdout",
     "output_type": "stream",
     "text": [
      "Model: \"sequential_7\"\n",
      "_________________________________________________________________\n",
      "Layer (type)                 Output Shape              Param #   \n",
      "=================================================================\n",
      "conv2d_17 (Conv2D)           (None, 48, 48, 64)        640       \n",
      "_________________________________________________________________\n",
      "activation_24 (Activation)   (None, 48, 48, 64)        0         \n",
      "_________________________________________________________________\n",
      "max_pooling2d_17 (MaxPooling (None, 24, 24, 64)        0         \n",
      "_________________________________________________________________\n",
      "conv2d_18 (Conv2D)           (None, 22, 22, 64)        36928     \n",
      "_________________________________________________________________\n",
      "activation_25 (Activation)   (None, 22, 22, 64)        0         \n",
      "_________________________________________________________________\n",
      "max_pooling2d_18 (MaxPooling (None, 11, 11, 64)        0         \n",
      "_________________________________________________________________\n",
      "flatten_7 (Flatten)          (None, 7744)              0         \n",
      "_________________________________________________________________\n",
      "dense_14 (Dense)             (None, 64)                495680    \n",
      "_________________________________________________________________\n",
      "dense_15 (Dense)             (None, 1)                 65        \n",
      "_________________________________________________________________\n",
      "activation_26 (Activation)   (None, 1)                 0         \n",
      "=================================================================\n",
      "Total params: 533,313\n",
      "Trainable params: 533,313\n",
      "Non-trainable params: 0\n",
      "_________________________________________________________________\n"
     ]
    }
   ],
   "source": [
    "import tensorflow as tf\n",
    "from tensorflow.keras.models import Sequential\n",
    "from tensorflow.keras.layers import Dense, Dropout, Activation, Flatten, Conv2D, MaxPooling2D\n",
    "\n",
    "X_train = X / 255.0\n",
    "model = Sequential()\n",
    "model.add( Conv2D(64, (3, 3), input_shape = X_train.shape[1:]) )\n",
    "model.add( Activation(\"relu\") )\n",
    "model.add(MaxPooling2D(pool_size=(2, 2)))\n",
    "\n",
    "model.add( Conv2D(64, (3, 3)) )\n",
    "model.add(Activation(\"relu\"))\n",
    "model.add(MaxPooling2D(pool_size=(2, 2)))\n",
    "          \n",
    "model.add(Flatten())\n",
    "model.add(Dense(64))\n",
    "\n",
    "model.add(Dense(1))\n",
    "model.add(Activation('sigmoid'))\n",
    "\n",
    "model.compile(loss = 'binary_crossentropy',\n",
    "             optimizer='adam',\n",
    "             metrics = ['accuracy'])\n",
    "model.summary()"
   ]
  },
  {
   "cell_type": "code",
   "execution_count": 21,
   "metadata": {},
   "outputs": [
    {
     "name": "stdout",
     "output_type": "stream",
     "text": [
      "Train on 22500 samples, validate on 2500 samples\n",
      "Epoch 1/5\n",
      "22500/22500 [==============================] - 105s 5ms/sample - loss: 0.6356 - accuracy: 0.6312 - val_loss: 0.5825 - val_accuracy: 0.6928\n",
      "Epoch 2/5\n",
      "22500/22500 [==============================] - 99s 4ms/sample - loss: 0.5337 - accuracy: 0.7371 - val_loss: 0.5300 - val_accuracy: 0.7408\n",
      "Epoch 3/5\n",
      "22500/22500 [==============================] - 105s 5ms/sample - loss: 0.4901 - accuracy: 0.7690 - val_loss: 0.4849 - val_accuracy: 0.7712\n",
      "Epoch 4/5\n",
      "22500/22500 [==============================] - 99s 4ms/sample - loss: 0.4557 - accuracy: 0.7863 - val_loss: 0.4731 - val_accuracy: 0.7768\n",
      "Epoch 5/5\n",
      "22500/22500 [==============================] - 94s 4ms/sample - loss: 0.4286 - accuracy: 0.8012 - val_loss: 0.4637 - val_accuracy: 0.7812\n"
     ]
    }
   ],
   "source": [
    "history = model.fit(X_train, np.array(y), batch_size=32, epochs=5, validation_split=0.1)"
   ]
  },
  {
   "cell_type": "code",
   "execution_count": 27,
   "metadata": {},
   "outputs": [
    {
     "data": {
      "image/png": "[encoded data removed]",
      "text/plain": [
       "<Figure size 576x576 with 2 Axes>"
      ]
     },
     "metadata": {
      "needs_background": "light"
     },
     "output_type": "display_data"
    }
   ],
   "source": [
    "fig, (ax1, ax2) = plt.subplots(2, 1, figsize=(8,8))\n",
    "\n",
    "ax1.plot(history.history['loss'], c='r', label='Training Loss')\n",
    "ax1.plot(history.history['val_loss'], c='b', label='Validation Loss')\n",
    "ax1.set_xticks(np.arange(1, 5, 1))\n",
    "\n",
    "ax2.plot(history.history['accuracy'], color='r', label=\"Training accuracy\")\n",
    "ax2.plot(history.history['val_accuracy'], color='b',label=\"Validation accuracy\")\n",
    "ax2.set_xticks(np.arange(1, 5, 1))\n",
    "ax2.set_yticks(np.arange(0, 1, 0.1))\n",
    "\n",
    "legend = plt.legend(loc='best', shadow=True)\n",
    "plt.tight_layout()\n",
    "plt.show()"
   ]
  },
  {
   "cell_type": "code",
   "execution_count": 28,
   "metadata": {},
   "outputs": [],
   "source": [
    "model.save_weights('model.h5')"
   ]
  },
  {
   "cell_type": "code",
   "execution_count": 32,
   "metadata": {},
   "outputs": [
    {
     "name": "stdout",
     "output_type": "stream",
     "text": [
      "[11927, 347, 11165, 3002, 1043]\n"
     ]
    }
   ],
   "source": [
    "# Testing\n",
    "IMG_SIZE = 50\n",
    "PATH = 'test'\n",
    "def prepareData():\n",
    "    path = PATH\n",
    "    data = []\n",
    "    img_id = []\n",
    "    for img in os.listdir(path):\n",
    "        try:\n",
    "            img_array = cv2.imread(os.path.join(path, img), cv2.IMREAD_GRAYSCALE)\n",
    "            img_array = cv2.resize(img_array, (IMG_SIZE, IMG_SIZE))\n",
    "            data.append(img_array)\n",
    "            img_id.append(int(img.split('.')[0]))\n",
    "        except Exception as e:\n",
    "            print(str(e))\n",
    "    return data, img_id\n",
    "\n",
    "test, img_id = prepareData()\n",
    "print(img_id[:5])"
   ]
  },
  {
   "cell_type": "code",
   "execution_count": 55,
   "metadata": {},
   "outputs": [
    {
     "name": "stdout",
     "output_type": "stream",
     "text": [
      "[[0.8804456 ]\n",
      " [0.5207825 ]\n",
      " [0.9535522 ]\n",
      " ...\n",
      " [0.9735296 ]\n",
      " [0.02727008]\n",
      " [0.4250577 ]]\n"
     ]
    }
   ],
   "source": [
    "X_test = np.array(test).reshape(-1, IMG_SIZE, IMG_SIZE, 1)\n",
    "X_test = X_test / 255.0\n",
    "result = model.predict(X_test)\n",
    "print(result)"
   ]
  },
  {
   "cell_type": "code",
   "execution_count": 56,
   "metadata": {},
   "outputs": [],
   "source": [
    "y_pred = []\n",
    "for ele in result:\n",
    "    y_pred.append(int(ele >= 0.5))"
   ]
  },
  {
   "cell_type": "code",
   "execution_count": 57,
   "metadata": {},
   "outputs": [],
   "source": [
    "import pandas as pd\n",
    "\n",
    "submission = pd.DataFrame()\n",
    "submission['id'] = img_id\n",
    "submission['label'] = y_pred\n",
    "submission.to_csv('submission.csv', index=False)"
   ]
  }
 ],
 "metadata": {
  "kernelspec": {
   "display_name": "Python 3",
   "language": "python",
   "name": "python3"
  },
  "language_info": {
   "codemirror_mode": {
    "name": "ipython",
    "version": 3
   },
   "file_extension": ".py",
   "mimetype": "text/x-python",
   "name": "python",
   "nbconvert_exporter": "python",
   "pygments_lexer": "ipython3",
   "version": "3.7.4"
  }
 },
 "nbformat": 4,
 "nbformat_minor": 2
}
