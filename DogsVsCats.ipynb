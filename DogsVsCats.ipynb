{
 "cells": [
  {
   "cell_type": "code",
   "execution_count": 20,
   "metadata": {
    "scrolled": true
   },
   "outputs": [
    {
     "name": "stdout",
     "output_type": "stream",
     "text": [
      "25000\n"
     ]
    }
   ],
   "source": [
    "import cv2\n",
    "from matplotlib import pyplot as plt\n",
    "import numpy as np\n",
    "import tensorflow as tf\n",
    "import os\n",
    "\n",
    "PATH = 'train'\n",
    "IMG_SIZE = 50\n",
    "\n",
    "classes = {'cat': 0, 'dog': 1}\n",
    "\n",
    "def prepareData():\n",
    "    path = PATH\n",
    "    training_data = []\n",
    "    for img in os.listdir(path):\n",
    "        try:\n",
    "            img_array = cv2.imread(os.path.join(path, img), cv2.IMREAD_GRAYSCALE)\n",
    "            img_array = cv2.resize(img_array, (IMG_SIZE, IMG_SIZE))\n",
    "            class_num = classes[img.split('.')[0]]\n",
    "            training_data.append([img_array, class_num])\n",
    "        except Exception as e:\n",
    "            print(str(e))\n",
    "    return training_data\n",
    "\n",
    "training_data = prepareData()\n",
    "print(len(training_data))"
   ]
  },
  {
   "cell_type": "code",
   "execution_count": 21,
   "metadata": {},
   "outputs": [],
   "source": [
    "'''import pickle\n",
    "file = open('train.pickle', 'wb')\n",
    "pickle.dump(training_data, file)\n",
    "file.close()'''"
   ]
  },
  {
   "cell_type": "code",
   "execution_count": 33,
   "metadata": {},
   "outputs": [],
   "source": [
    "X = []\n",
    "y = []\n",
    "\n",
    "for (features, labels) in training_data:\n",
    "    X.append(features)\n",
    "    y.append(labels)\n",
    "\n",
    "X = np.array(X).reshape(-1, IMG_SIZE, IMG_SIZE, 1)"
   ]
  },
  {
   "cell_type": "code",
   "execution_count": 39,
   "metadata": {},
   "outputs": [
    {
     "name": "stdout",
     "output_type": "stream",
     "text": [
      "Train on 22500 samples, validate on 2500 samples\n",
      "Epoch 1/10\n",
      "22500/22500 [==============================] - 50s 2ms/sample - loss: 0.6222 - accuracy: 0.6536 - val_loss: 0.5581 - val_accuracy: 0.7240\n",
      "Epoch 2/10\n",
      "22500/22500 [==============================] - 51s 2ms/sample - loss: 0.5331 - accuracy: 0.7355 - val_loss: 0.5495 - val_accuracy: 0.7248\n",
      "Epoch 3/10\n",
      "22500/22500 [==============================] - 52s 2ms/sample - loss: 0.4885 - accuracy: 0.7706 - val_loss: 0.4969 - val_accuracy: 0.7596\n",
      "Epoch 4/10\n",
      "22500/22500 [==============================] - 53s 2ms/sample - loss: 0.4641 - accuracy: 0.7809 - val_loss: 0.4774 - val_accuracy: 0.7724\n",
      "Epoch 5/10\n",
      "22500/22500 [==============================] - 60s 3ms/sample - loss: 0.4384 - accuracy: 0.7960 - val_loss: 0.4458 - val_accuracy: 0.8020\n",
      "Epoch 6/10\n",
      "22500/22500 [==============================] - 61s 3ms/sample - loss: 0.4117 - accuracy: 0.8126 - val_loss: 0.4369 - val_accuracy: 0.8112\n",
      "Epoch 7/10\n",
      "22500/22500 [==============================] - 63s 3ms/sample - loss: 0.3942 - accuracy: 0.8189 - val_loss: 0.4504 - val_accuracy: 0.7992\n",
      "Epoch 8/10\n",
      "22500/22500 [==============================] - 64s 3ms/sample - loss: 0.3745 - accuracy: 0.8288 - val_loss: 0.4308 - val_accuracy: 0.8088\n",
      "Epoch 9/10\n",
      "22500/22500 [==============================] - 62s 3ms/sample - loss: 0.3542 - accuracy: 0.8405 - val_loss: 0.4639 - val_accuracy: 0.7936\n",
      "Epoch 10/10\n",
      "22500/22500 [==============================] - 64s 3ms/sample - loss: 0.3356 - accuracy: 0.8492 - val_loss: 0.4647 - val_accuracy: 0.8040\n"
     ]
    },
    {
     "data": {
      "text/plain": [
       "[<matplotlib.lines.Line2D at 0x7fee7c1aca10>]"
      ]
     },
     "execution_count": 39,
     "metadata": {},
     "output_type": "execute_result"
    },
    {
     "data": {
      "image/png": "[encoded data removed]",
      "text/plain": [
       "<Figure size 432x288 with 1 Axes>"
      ]
     },
     "metadata": {
      "needs_background": "light"
     },
     "output_type": "display_data"
    }
   ],
   "source": [
    "import tensorflow as tf\n",
    "from tensorflow.keras.models import Sequential\n",
    "from tensorflow.keras.layers import Dense, Dropout, Activation, Flatten, Conv2D, MaxPooling2D\n",
    "\n",
    "X_train = X / 255.0\n",
    "model = Sequential()\n",
    "model.add( Conv2D(64, (3, 3), input_shape = X_train.shape[1:]) )\n",
    "model.add( Activation(\"relu\") )\n",
    "model.add(MaxPooling2D(pool_size=(2, 2)))\n",
    "\n",
    "model.add( Conv2D(64, (3, 3)) )\n",
    "model.add(Activation(\"relu\"))\n",
    "model.add(MaxPooling2D(pool_size=(2, 2)))\n",
    "          \n",
    "model.add(Flatten())\n",
    "model.add(Dense(64))\n",
    "\n",
    "model.add(Dense(1))\n",
    "model.add(Activation('sigmoid'))\n",
    "\n",
    "model.compile(loss = 'binary_crossentropy',\n",
    "             optimizer='adam',\n",
    "             metrics = ['accuracy'])\n",
    "history = model.fit(X_train, np.array(y), batch_size=32, epochs=10, validation_split=0.1)\n",
    "acc = history.history['accuracy']\n",
    "plt.plot([x for x in range(len(acc))], acc)"
   ]
  },
  {
   "cell_type": "markdown",
   "metadata": {},
   "source": [
    "file = open('model.pickle', 'wb')\n",
    "pickle.dump(model, file)\n",
    "file.close()"
   ]
  },
  {
   "cell_type": "code",
   "execution_count": null,
   "metadata": {},
   "outputs": [],
   "source": []
  }
 ],
 "metadata": {
  "kernelspec": {
   "display_name": "Python 3",
   "language": "python",
   "name": "python3"
  },
  "language_info": {
   "codemirror_mode": {
    "name": "ipython",
    "version": 3
   },
   "file_extension": ".py",
   "mimetype": "text/x-python",
   "name": "python",
   "nbconvert_exporter": "python",
   "pygments_lexer": "ipython3",
   "version": "3.7.4"
  }
 },
 "nbformat": 4,
 "nbformat_minor": 2
}
